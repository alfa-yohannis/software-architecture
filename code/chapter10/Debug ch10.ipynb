{
 "cells": [
  {
   "cell_type": "code",
   "execution_count": 4,
   "metadata": {},
   "outputs": [
    {
     "name": "stdout",
     "output_type": "stream",
     "text": [
      "New item added: ('Shirt', 10000)\n",
      "New item added: ('Pants', 20000)\n"
     ]
    }
   ],
   "source": [
    "# %load tuple_space.py\n",
    "import random\n",
    "\n",
    "# define tuple space\n",
    "tuple_space = []\n",
    "\n",
    "# define function for adding new item to the tuple space\n",
    "def add_item(name, price):\n",
    "    item = (name, price)\n",
    "    tuple_space.append(item)\n",
    "    print(f\"New item added: {item}\")\n",
    "    \n",
    "# define function for searching item by name in the tuple space\n",
    "def search_item(name):\n",
    "    result = []\n",
    "    for item in tuple_space:\n",
    "        if item[0] == name:\n",
    "            result.append(item)\n",
    "    if len(result) > 0:\n",
    "        print(f\"Item(s) found with name '{name}':\")\n",
    "        for item in result:\n",
    "            print(f\"- {item}\")\n",
    "    else:\n",
    "        print(f\"No item found with name '{name}'\")\n",
    "            \n",
    "# define function for purchasing item by name from the tuple space\n",
    "def purchase_item(name):\n",
    "    result = []\n",
    "    for item in tuple_space:\n",
    "        if item[0] == name:\n",
    "            result.append(item)\n",
    "    if len(result) > 0:\n",
    "        item = random.choice(result)\n",
    "        tuple_space.remove(item)\n",
    "        print(f\"Item purchased: {item}\")\n",
    "    else:\n",
    "        print(f\"No item found with name '{name}'\")\n",
    "\n",
    "# # add new items to tuple space\n",
    "add_item(\"Shirt\", 10000)\n",
    "add_item(\"Pants\", 20000)\n",
    "# add_item(\"Shoes\", 50000)\n",
    "\n",
    "# # search for an item in tuple space\n",
    "# search_item(\"Shirt\")\n",
    "\n",
    "# # purchase an item from tuple space\n",
    "# purchase_item(\"Shoes\")\n"
   ]
  },
  {
   "cell_type": "code",
   "execution_count": 7,
   "metadata": {},
   "outputs": [
    {
     "name": "stdout",
     "output_type": "stream",
     "text": [
      "New item added: ('jam', 5000000)\n"
     ]
    }
   ],
   "source": [
    "add_item('jam', 5000000)"
   ]
  },
  {
   "cell_type": "code",
   "execution_count": 8,
   "metadata": {},
   "outputs": [
    {
     "name": "stdout",
     "output_type": "stream",
     "text": [
      "Item(s) found with name 'jam':\n",
      "- ('jam', 5000000)\n"
     ]
    }
   ],
   "source": [
    "search_item('jam')"
   ]
  },
  {
   "cell_type": "code",
   "execution_count": null,
   "metadata": {},
   "outputs": [],
   "source": []
  }
 ],
 "metadata": {
  "kernelspec": {
   "display_name": "Python 3",
   "language": "python",
   "name": "python3"
  },
  "language_info": {
   "codemirror_mode": {
    "name": "ipython",
    "version": 3
   },
   "file_extension": ".py",
   "mimetype": "text/x-python",
   "name": "python",
   "nbconvert_exporter": "python",
   "pygments_lexer": "ipython3",
   "version": "3.8.3"
  }
 },
 "nbformat": 4,
 "nbformat_minor": 4
}
