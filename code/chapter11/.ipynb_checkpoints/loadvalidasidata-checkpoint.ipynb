{
 "cells": [
  {
   "cell_type": "code",
   "execution_count": null,
   "metadata": {},
   "outputs": [
    {
     "name": "stdout",
     "output_type": "stream",
     "text": [
      " * Serving Flask app \"__main__\" (lazy loading)\n",
      " * Environment: production\n",
      "   WARNING: This is a development server. Do not use it in a production deployment.\n",
      "   Use a production WSGI server instead.\n",
      " * Debug mode: off\n"
     ]
    },
    {
     "name": "stderr",
     "output_type": "stream",
     "text": [
      " * Running on http://127.0.0.1:5001/ (Press CTRL+C to quit)\n",
      "127.0.0.1 - - [17/May/2023 09:55:39] \"\u001b[37mPOST /validasidata HTTP/1.1\u001b[0m\" 200 -\n",
      "127.0.0.1 - - [17/May/2023 09:55:53] \"\u001b[33mGET / HTTP/1.1\u001b[0m\" 404 -\n",
      "127.0.0.1 - - [17/May/2023 10:01:50] \"\u001b[37mPOST /validasidata HTTP/1.1\u001b[0m\" 200 -\n"
     ]
    }
   ],
   "source": [
    "# %load validasidata.py\n",
    "##Not Found??\n",
    "from flask import Flask, jsonify, request\n",
    "import json\n",
    "\n",
    "app = Flask(__name__)\n",
    "\n",
    "@app.route('/validasidata', methods=['POST'])\n",
    "def validasidata():\n",
    "    data_pribadi = json.loads(request.data)\n",
    "    hasil_validasi = {'name': data_pribadi['name'], 'greeting': 'Hello, ' + data_pribadi['name'], 'status': 'verified'}\n",
    "    with open('hasil_validasi.json', 'w') as file_validasi:\n",
    "        json.dump(hasil_validasi, file_validasi)\n",
    "    return jsonify(hasil_validasi)\n",
    "\n",
    "if __name__ == '__main__':\n",
    "    app.run(port=5001)\n"
   ]
  },
  {
   "cell_type": "code",
   "execution_count": null,
   "metadata": {},
   "outputs": [],
   "source": []
  }
 ],
 "metadata": {
  "kernelspec": {
   "display_name": "Python 3",
   "language": "python",
   "name": "python3"
  },
  "language_info": {
   "codemirror_mode": {
    "name": "ipython",
    "version": 3
   },
   "file_extension": ".py",
   "mimetype": "text/x-python",
   "name": "python",
   "nbconvert_exporter": "python",
   "pygments_lexer": "ipython3",
   "version": "3.8.3"
  }
 },
 "nbformat": 4,
 "nbformat_minor": 4
}
