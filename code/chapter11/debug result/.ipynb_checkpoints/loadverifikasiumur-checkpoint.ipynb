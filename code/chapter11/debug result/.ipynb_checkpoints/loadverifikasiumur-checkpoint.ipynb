{
 "cells": [
  {
   "cell_type": "code",
   "execution_count": null,
   "metadata": {},
   "outputs": [
    {
     "name": "stdout",
     "output_type": "stream",
     "text": [
      " * Serving Flask app \"__main__\" (lazy loading)\n",
      " * Environment: production\n",
      "   WARNING: This is a development server. Do not use it in a production deployment.\n",
      "   Use a production WSGI server instead.\n",
      " * Debug mode: off\n"
     ]
    },
    {
     "name": "stderr",
     "output_type": "stream",
     "text": [
      " * Running on http://127.0.0.1:5002/ (Press CTRL+C to quit)\n",
      "127.0.0.1 - - [17/May/2023 10:15:19] \"\u001b[37mPOST /verifikasiumur HTTP/1.1\u001b[0m\" 200 -\n"
     ]
    }
   ],
   "source": [
    "# %load verifikasiumur.py\n",
    "\n",
    "##Not Found?\n",
    "from flask import Flask, jsonify, request\n",
    "import json\n",
    "\n",
    "app = Flask(__name__)\n",
    "\n",
    "@app.route('/verifikasiumur', methods=['POST'])\n",
    "def verifikasiumur():\n",
    "    data_pribadi = json.loads(request.data)\n",
    "    if(data_pribadi[\"age\"] >= 17):\n",
    "        hasil_verifikasi = {'age': data_pribadi[\"age\"], 'status': 'You are old enough'}\n",
    "    else:\n",
    "        hasil_verifikasi = {'age': data_pribadi[\"age\"], 'status': 'Sorry not old enough :('}\n",
    "    with open('hasil_verifikasi.json', 'w') as file_validasi:\n",
    "        json.dump(hasil_verifikasi, file_validasi)\n",
    "    return jsonify(hasil_verifikasi)\n",
    "\n",
    "if __name__ == '__main__':\n",
    "    app.run(port=5002)"
   ]
  },
  {
   "cell_type": "code",
   "execution_count": null,
   "metadata": {},
   "outputs": [],
   "source": []
  }
 ],
 "metadata": {
  "kernelspec": {
   "display_name": "Python 3",
   "language": "python",
   "name": "python3"
  },
  "language_info": {
   "codemirror_mode": {
    "name": "ipython",
    "version": 3
   },
   "file_extension": ".py",
   "mimetype": "text/x-python",
   "name": "python",
   "nbconvert_exporter": "python",
   "pygments_lexer": "ipython3",
   "version": "3.8.3"
  }
 },
 "nbformat": 4,
 "nbformat_minor": 4
}
