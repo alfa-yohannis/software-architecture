{
 "cells": [
  {
   "cell_type": "code",
   "execution_count": null,
   "metadata": {},
   "outputs": [],
   "source": [
    "# %load validasidata.py\n",
    "##Not Found??\n",
    "from flask import Flask, jsonify, request\n",
    "import json\n",
    "\n",
    "app = Flask(__name__)\n",
    "\n",
    "@app.route('/validasidata', methods=['POST'])\n",
    "def validasidata():\n",
    "    data_pribadi = json.loads(request.data)\n",
    "    hasil_validasi = {'name': data_pribadi['name'], 'greeting': 'Hello, ' + data_pribadi['name'], 'status': 'verified'}\n",
    "    with open('hasil_validasi.json', 'w') as file_validasi:\n",
    "        json.dump(hasil_validasi, file_validasi)\n",
    "    return jsonify(hasil_validasi)\n",
    "\n",
    "if __name__ == '__main__':\n",
    "    app.run(port=5001)\n"
   ]
  },
  {
   "cell_type": "code",
   "execution_count": null,
   "metadata": {},
   "outputs": [],
   "source": []
  }
 ],
 "metadata": {
  "kernelspec": {
   "display_name": "Python 3",
   "language": "python",
   "name": "python3"
  },
  "language_info": {
   "codemirror_mode": {
    "name": "ipython",
    "version": 3
   },
   "file_extension": ".py",
   "mimetype": "text/x-python",
   "name": "python",
   "nbconvert_exporter": "python",
   "pygments_lexer": "ipython3",
   "version": "3.8.3"
  }
 },
 "nbformat": 4,
 "nbformat_minor": 4
}
