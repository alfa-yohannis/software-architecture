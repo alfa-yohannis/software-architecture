{
 "cells": [
  {
   "cell_type": "code",
   "execution_count": 3,
   "metadata": {},
   "outputs": [],
   "source": [
    "##Semua json not found"
   ]
  },
  {
   "cell_type": "code",
   "execution_count": 5,
   "metadata": {},
   "outputs": [],
   "source": [
    "# %load cekpersyaratanbuatktp.py\n",
    "import json\n",
    "import requests\n",
    "\n",
    "# Service A: Reads data from file and returns it as a JSON response\n",
    "def cekdata():\n",
    "    with open('data_pribadi.json', 'r') as file_data:\n",
    "        data_pribadi = json.load(file_data)\n",
    "    return json.dumps(data_pribadi)\n",
    "\n",
    "# Service B: Reads data from file, performs some transformation, and writes it to another file\n",
    "def validasidata():\n",
    "    with open('data_pribadi.json', 'r') as file_data:\n",
    "        data_pribadi = json.load(file_data)\n",
    "    hasil_validasi = {'name': data_pribadi['name'], 'greeting': 'Hello, ' + data_pribadi['name'], 'status': 'verified'}\n",
    "    with open('hasil_validasi.json', 'w') as file_validasi:\n",
    "        json.dump(hasil_validasi, file_validasi)\n",
    "        \n",
    "def verifikasiumur():\n",
    "    with open('data_pribadi.json', 'r') as file_data:\n",
    "        data_pribadi = json.load(file_data)\n",
    "    if(data_pribadi[\"age\"] >= 17):\n",
    "        hasil_verifikasi = {'age': data_pribadi[\"age\"], 'status': 'You are old enough'}\n",
    "    else:\n",
    "        hasil_verifikasi = {'age': data_pribadi[\"age\"], 'status': 'Sorry not old enough :('}\n",
    "    with open('hasil_verifikasi.json', 'w') as file_validasi:\n",
    "        json.dump(hasil_verifikasi, file_validasi)\n",
    "\n",
    "# Orchestration layer: Calls Service A, sends its response to Service B, and returns the response from Service B\n",
    "def verifikasidata():\n",
    "    cek_respon = cekdata()\n",
    "    headers = {'Content-Type': 'application/json'}\n",
    "    cek_validasi = requests.post('http://localhost:5001/validasidata', data=cek_respon, headers=headers)\n",
    "    return cek_validasi.text\n",
    "\n",
    "def verifikasiumur():\n",
    "    cek_respon = cekdata()\n",
    "    headers = {'Content-Type': 'application/json'}\n",
    "    cek_verifikasi = requests.post('http://localhost:5002/verifikasiumur', data=cek_respon, headers=headers)\n",
    "    return cek_verifikasi.text\n",
    "\n",
    "if __name__ == '__main__':\n",
    "    verifikasidata()\n",
    "    verifikasiumur()"
   ]
  },
  {
   "cell_type": "code",
   "execution_count": null,
   "metadata": {},
   "outputs": [],
   "source": []
  },
  {
   "cell_type": "code",
   "execution_count": null,
   "metadata": {},
   "outputs": [],
   "source": []
  }
 ],
 "metadata": {
  "kernelspec": {
   "display_name": "Python 3",
   "language": "python",
   "name": "python3"
  },
  "language_info": {
   "codemirror_mode": {
    "name": "ipython",
    "version": 3
   },
   "file_extension": ".py",
   "mimetype": "text/x-python",
   "name": "python",
   "nbconvert_exporter": "python",
   "pygments_lexer": "ipython3",
   "version": "3.8.3"
  }
 },
 "nbformat": 4,
 "nbformat_minor": 4
}
